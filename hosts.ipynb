{
	"cells":[
		{
			"cell_type":"markdown",
			"source":[
				"<a href=\"https://colab.research.google.com/github/ScriptTiger/hosts/blob/master/hosts.ipynb\" target=\"_parent\"><img src=\"https://colab.research.google.com/assets/colab-badge.svg\" alt=\"Open In Colab\"/></a>"
			],
      "metadata":{"id":"colab"}
		},
		{
			"cell_type":"markdown",
			"source":[
				"# Step 1: Clone last commit of StevenBlack/hosts."
			],
			"metadata":{"id":"step1"}
		},
		{
			"cell_type":"code",
			"source":[
				"!git clone https://github.com/StevenBlack/hosts --depth 1"
			],
			"metadata":{"id":"git"},
      "outputs":[]
		},
		{
			"cell_type":"markdown",
			"source":[
				"# Step 2: Change directory to step into the hosts directory."],
			"metadata":{"id":"step2"}
		},
		{
			"cell_type":"code",
			"source":[
				"cd hosts"
			],
			"metadata":{"id":"cd"},
      "outputs":[]
		},
		{
			"cell_type":"markdown",
			"source":[
				"# Step 3: Install dependencies."
			],
			"metadata":{"id":"step3"}
		},
		{
			"cell_type":"code",
			"source":[
				"!pip install --user -r requirements.txt"],
			"metadata":{"id":"install"},
      "outputs":[]
		},
		{
			"cell_type":"markdown",
			"source":[
				"# Step 4: Display command-line options."
			],
			"metadata":{"id":"step4"}
		},
		{
			"cell_type":"code",
			"source":[
				"!python updateHostsFile.py -h"
			],
			"metadata":{"id":"help"},
      "outputs":[]
		},
		{
			"cell_type":"markdown",
			"source":[
				"# Step 5: Generate your hosts file!\n","\n","(Edit the following command as needed)"
			],
			"metadata":{"id":"step5"}
		},
		{
			"cell_type":"code",
			"source":[
				"!python updateHostsFile.py -a --compress"
			],
			"metadata":{"id":"generate"},
      "outputs":[]
		},
		{
			"cell_type":"markdown",
			"source":[
				"# Step 6: Download the newly generated /content/hosts/hosts file!"
			],
			"metadata":{"id":"step6"}
		}
	],
	"metadata":{
		"kernelspec":{
			"display_name":"Python 3",
			"name":"python3"
		},
		"language_info":{
			"name":"python"
		}
	},
	"nbformat":4,
	"nbformat_minor":0
}
